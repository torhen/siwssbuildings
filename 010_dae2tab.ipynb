{
 "cells": [
  {
   "cell_type": "code",
   "execution_count": 1,
   "id": "collect-volleyball",
   "metadata": {},
   "outputs": [],
   "source": [
    "import collada as co\n",
    "from shapely.geometry import Polygon\n",
    "import geopandas as gpd\n",
    "import pathlib\n",
    "import xmltodict\n",
    "import pandas as pd\n",
    "import mio\n",
    "import shapely"
   ]
  },
  {
   "cell_type": "code",
   "execution_count": 9,
   "id": "increasing-schema",
   "metadata": {},
   "outputs": [],
   "source": [
    "def dae2poly(model_path, x_shift, y_shift):\n",
    "    \"\"\"convert a collida model to shapely polygon\"\"\"\n",
    "    model_path = str(model_path)\n",
    "    mesh = co.Collada(model_path)\n",
    "    # make polygonlist\n",
    "    polys = []\n",
    "    for geom in mesh.geometries:\n",
    "        for triset in geom.primitives:\n",
    "            for tri in triset:\n",
    "                poly = Polygon(tri.vertices)\n",
    "                polys.append(poly)\n",
    "                \n",
    "    gdf = gpd.GeoDataFrame(geometry=polys)\n",
    "    gdf['id'] = 0\n",
    "    gdf = gdf.dissolve('id')\n",
    "    assert len(gdf), 'expect exactly one poy'\n",
    "    poly = gdf.geometry[0]\n",
    "    poly = shapely.affinity.translate(poly, xoff=x_shift, yoff=y_shift)\n",
    "    return poly"
   ]
  },
  {
   "cell_type": "code",
   "execution_count": 10,
   "id": "pressed-graham",
   "metadata": {},
   "outputs": [],
   "source": [
    "def get_coords_df(kml_path):\n",
    "    \"\"\"read kml and return dataframe with coords and model name\"\"\"\n",
    "    with open(kml_path) as fin:\n",
    "        skml = fin.read()\n",
    "    dic = xmltodict.parse(skml)\n",
    "    pms = dic['kml']['Document']['Placemark']\n",
    "    \n",
    "    dics = []\n",
    "    for pm in pms:\n",
    "        model = pm['Model']\n",
    "        lon = pm['Model']['Location']['longitude']\n",
    "        lat = pm['Model']['Location']['latitude']\n",
    "        model = pm['Model']['Link']['href']\n",
    "        dic = {\n",
    "            'lon' : lon, \n",
    "            'lat' : lat,\n",
    "            'model' : model\n",
    "        }\n",
    "        dics.append(dic)\n",
    "    #breakpoint()\n",
    "    df = pd.DataFrame(dics)\n",
    "    \n",
    "    # add swiss coordinates\n",
    "    coords = list(zip(df.lon, df.lat))\n",
    "    coords = [mio.wgs_swiss(*ll) for ll in coords]\n",
    "    coords = list(zip(*coords))\n",
    "    df['x'] = coords[0]\n",
    "    df['y'] = coords[1]\n",
    "    return df"
   ]
  },
  {
   "cell_type": "code",
   "execution_count": 11,
   "id": "simple-majority",
   "metadata": {},
   "outputs": [],
   "source": [
    "df = get_coords_df('swissBUILDINGS3D20_1166-42.kml')"
   ]
  },
  {
   "cell_type": "code",
   "execution_count": 15,
   "id": "destroyed-diagnosis",
   "metadata": {},
   "outputs": [
    {
     "name": "stderr",
     "output_type": "stream",
     "text": [
      "C:\\tools\\anaconda3\\lib\\site-packages\\collada\\util.py:70: RuntimeWarning: invalid value encountered in true_divide\n",
      "  return vec / numpy.sqrt(numpy.vdot(vec, vec))\n"
     ]
    }
   ],
   "source": [
    "geometry = []\n",
    "for ind, row in df.iterrows():\n",
    "    model = row['model']\n",
    "    x, y = row['x'], row['y']\n",
    "    poly = dae2poly(model, x, y)\n",
    "    geometry.append(poly)"
   ]
  },
  {
   "cell_type": "code",
   "execution_count": 16,
   "id": "historical-california",
   "metadata": {},
   "outputs": [],
   "source": [
    "gdf = gpd.GeoDataFrame(geometry=geometry)"
   ]
  },
  {
   "cell_type": "code",
   "execution_count": 17,
   "id": "universal-double",
   "metadata": {},
   "outputs": [
    {
     "name": "stdout",
     "output_type": "stream",
     "text": [
      "1503 row(s) written to mapinfo file.\n"
     ]
    }
   ],
   "source": [
    "mio.write_tab(gdf, 'result.tab')"
   ]
  },
  {
   "cell_type": "code",
   "execution_count": null,
   "id": "through-nigeria",
   "metadata": {},
   "outputs": [],
   "source": []
  }
 ],
 "metadata": {
  "kernelspec": {
   "display_name": "Python 3",
   "language": "python",
   "name": "python3"
  },
  "language_info": {
   "codemirror_mode": {
    "name": "ipython",
    "version": 3
   },
   "file_extension": ".py",
   "mimetype": "text/x-python",
   "name": "python",
   "nbconvert_exporter": "python",
   "pygments_lexer": "ipython3",
   "version": "3.7.9"
  }
 },
 "nbformat": 4,
 "nbformat_minor": 5
}
