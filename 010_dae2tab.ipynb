{
 "cells": [
  {
   "cell_type": "code",
   "execution_count": 1,
   "id": "stylish-report",
   "metadata": {},
   "outputs": [],
   "source": [
    "import pathlib\n",
    "import mio\n",
    "import collada as co\n",
    "import xmltodict\n",
    "import shapely\n",
    "from shapely.geometry import Polygon\n",
    "import pandas as pd\n",
    "import geopandas as gpd"
   ]
  },
  {
   "cell_type": "code",
   "execution_count": 2,
   "id": "lovely-wrong",
   "metadata": {},
   "outputs": [],
   "source": [
    "def dae2poly(model_path, x_shift, y_shift):\n",
    "    \"\"\"convert a collida model to shapely polygon\"\"\"\n",
    "    model_path = str(model_path)\n",
    "    mesh = co.Collada(model_path)\n",
    "    # make polygonlist\n",
    "    polys = []\n",
    "    for geom in mesh.geometries:\n",
    "        for triset in geom.primitives:\n",
    "            for tri in triset:\n",
    "                poly = Polygon(tri.vertices)\n",
    "                polys.append(poly)\n",
    "                \n",
    "    gdf = gpd.GeoDataFrame(geometry=polys)\n",
    "    gdf['id'] = 0\n",
    "    gdf = gdf.dissolve('id')\n",
    "    assert len(gdf), 'expect exactly one poy'\n",
    "    poly = gdf.geometry[0]\n",
    "    poly = shapely.affinity.translate(poly, xoff=x_shift, yoff=y_shift)\n",
    "    return poly"
   ]
  },
  {
   "cell_type": "code",
   "execution_count": 3,
   "id": "outside-wright",
   "metadata": {},
   "outputs": [],
   "source": [
    "def get_coords_df(kml_path):\n",
    "    \"\"\"read kml and return dataframe with coords and model name\"\"\"\n",
    "    with open(kml_path) as fin:\n",
    "        skml = fin.read()\n",
    "    dic = xmltodict.parse(skml)\n",
    "    pms = dic['kml']['Document']['Placemark']\n",
    "    \n",
    "    dics = []\n",
    "    for pm in pms:\n",
    "        model = pm['Model']\n",
    "        lon = pm['Model']['Location']['longitude']\n",
    "        lat = pm['Model']['Location']['latitude']\n",
    "        model = pm['Model']['Link']['href']\n",
    "        dic = {\n",
    "            'lon' : lon, \n",
    "            'lat' : lat,\n",
    "            'model' : model\n",
    "        }\n",
    "        dics.append(dic)\n",
    "    #breakpoint()\n",
    "    df = pd.DataFrame(dics)\n",
    "    \n",
    "    # add swiss coordinates\n",
    "    coords = list(zip(df.lon, df.lat))\n",
    "    coords = [mio.wgs_swiss(*ll) for ll in coords]\n",
    "    coords = list(zip(*coords))\n",
    "    df['x'] = coords[0]\n",
    "    df['y'] = coords[1]\n",
    "    return df"
   ]
  },
  {
   "cell_type": "code",
   "execution_count": 12,
   "id": "owned-arrangement",
   "metadata": {},
   "outputs": [],
   "source": [
    "def make_gdf(df, kml_file):\n",
    "    kml_dir = pathlib.Path(kml_file) / '..'\n",
    "    assert kml_dir.is_dir(), f\"kml_dir '{kml_dir}' not found\"\n",
    "    geometry = []\n",
    "    models = []\n",
    "    for ind, row in df.iterrows():\n",
    "        model = row['model']\n",
    "        x, y = row['x'], row['y']\n",
    "        poly = dae2poly(kml_dir / model, x, y)\n",
    "        geometry.append(poly)\n",
    "        models.append(model)\n",
    "    gdf = gpd.GeoDataFrame(geometry=geometry)\n",
    "    gdf['model'] = models\n",
    "    return gdf"
   ]
  },
  {
   "cell_type": "code",
   "execution_count": 13,
   "id": "historic-generator",
   "metadata": {},
   "outputs": [],
   "source": [
    "def convert(kml_path, result_dir):\n",
    "    stem = pathlib.Path(kml_path).stem\n",
    "    result_dir = pathlib.Path(result_dir)\n",
    "    assert result_dir.is_dir(), f\"{result_dir} not found\"\n",
    "    df = get_coords_df(kml_path)\n",
    "    gdf = make_gdf(df, kml_path)\n",
    "    mio.write_tab(gdf, result_dir / (stem + '.tab') )"
   ]
  },
  {
   "cell_type": "code",
   "execution_count": 16,
   "id": "light-audit",
   "metadata": {},
   "outputs": [
    {
     "data": {
      "text/plain": [
       "[WindowsPath('KML/Sample_swissBUILDINGS3D20_WGS84_1166-42/swissBUILDINGS3D20_1166-42.kml'),\n",
       " WindowsPath('KML/Sample_swissBUILDINGS3D20_WGS84_1166-44/swissBUILDINGS3D20_1166-44.kml')]"
      ]
     },
     "execution_count": 16,
     "metadata": {},
     "output_type": "execute_result"
    }
   ],
   "source": [
    "# find kmls\n",
    "all_kmls = []\n",
    "dirs = list(pathlib.Path('KML').glob('*'))\n",
    "for dir in dirs:\n",
    "    kmls = list(pathlib.Path(dir).glob('*.kml'))\n",
    "    all_kmls.extend(kmls)\n",
    "all_kmls"
   ]
  },
  {
   "cell_type": "code",
   "execution_count": 17,
   "id": "antique-minority",
   "metadata": {},
   "outputs": [
    {
     "name": "stdout",
     "output_type": "stream",
     "text": [
      "convering KML\\Sample_swissBUILDINGS3D20_WGS84_1166-42\\swissBUILDINGS3D20_1166-42.kml\n"
     ]
    },
    {
     "name": "stderr",
     "output_type": "stream",
     "text": [
      "C:\\tools\\anaconda3\\lib\\site-packages\\collada\\util.py:70: RuntimeWarning: invalid value encountered in true_divide\n",
      "  return vec / numpy.sqrt(numpy.vdot(vec, vec))\n"
     ]
    },
    {
     "name": "stdout",
     "output_type": "stream",
     "text": [
      "1503 row(s) written to mapinfo file.\n",
      "convering KML\\Sample_swissBUILDINGS3D20_WGS84_1166-44\\swissBUILDINGS3D20_1166-44.kml\n",
      "112 row(s) written to mapinfo file.\n"
     ]
    }
   ],
   "source": [
    "for kml in all_kmls:\n",
    "    print('converting', kml)\n",
    "    convert(kml, 'result/')"
   ]
  },
  {
   "cell_type": "code",
   "execution_count": null,
   "id": "incorrect-sleep",
   "metadata": {},
   "outputs": [],
   "source": []
  }
 ],
 "metadata": {
  "kernelspec": {
   "display_name": "Python 3",
   "language": "python",
   "name": "python3"
  },
  "language_info": {
   "codemirror_mode": {
    "name": "ipython",
    "version": 3
   },
   "file_extension": ".py",
   "mimetype": "text/x-python",
   "name": "python",
   "nbconvert_exporter": "python",
   "pygments_lexer": "ipython3",
   "version": "3.7.9"
  }
 },
 "nbformat": 4,
 "nbformat_minor": 5
}
